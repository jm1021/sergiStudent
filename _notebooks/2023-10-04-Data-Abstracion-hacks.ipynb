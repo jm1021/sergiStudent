{
 "cells": [
  {
   "cell_type": "markdown",
   "metadata": {},
   "source": [
    "---\n",
    "layout: post\n",
    "title: Data Abstraction Homework\n",
    "description: Data Abstraction\n",
    "type: hacks\n",
    "courses: { compsci: {week: 6} }\n",
    "---"
   ]
  },
  {
   "cell_type": "markdown",
   "metadata": {},
   "source": [
    "# Hacks\n"
   ]
  },
  {
   "cell_type": "code",
   "execution_count": 3,
   "metadata": {},
   "outputs": [
    {
     "name": "stdout",
     "output_type": "stream",
     "text": [
      "People from the registry:\n",
      "Name: Sergi, Age: 15, Years until 100: 85\n",
      "Name: Abdullah, Age: 14, Years until 100: 86\n",
      "Name: Lincoln, Age: 15, Years until 100: 85\n",
      "\n",
      "The oldest person in the registry:\n",
      "The oldest person is: Sergi, Age: 15\n"
     ]
    }
   ],
   "source": [
    "class Person:\n",
    "    def __init__(self, name, age):\n",
    "        self.name = name\n",
    "        self.age = age\n",
    "#identifies how many years left until the person is 100\n",
    "    def years_until_100(self):\n",
    "        return 100 - self.age\n",
    "#creating additional class registry which puts all Person together\n",
    "class PersonRegistry:\n",
    "    def __init__(self):\n",
    "        self.people_list = []\n",
    "        self.people_dict = {}\n",
    "\n",
    "    def add_person(self, person):\n",
    "        self.people_list.append(person)\n",
    "        self.people_dict[person.name] = person.age\n",
    "\n",
    "    def print_people(self):\n",
    "        for person in self.people_list:\n",
    "            print(f\"Name: {person.name}, Age: {person.age}, Years until 100: {person.years_until_100()}\")\n",
    "\n",
    "    def oldest_person(self):\n",
    "        if not self.people_dict:\n",
    "            print(\"No people in the registry.\")\n",
    "            return\n",
    "\n",
    "        oldest_name = max(self.people_dict, key=self.people_dict.get)\n",
    "        print(f\"The oldest person is: {oldest_name}, Age: {self.people_dict[oldest_name]}\")\n",
    "\n",
    "# Example usage:\n",
    "\n",
    "# Creating a PersonRegistry\n",
    "registry = PersonRegistry()\n",
    "\n",
    "# Adding people to the registry\n",
    "registry.add_person(Person(\"Sergi\", 15))\n",
    "registry.add_person(Person(\"Abdullah\", 14))\n",
    "registry.add_person(Person(\"Lincoln\", 15))\n",
    "\n",
    "# Printing people from the registry\n",
    "print(\"People from the registry:\")\n",
    "registry.print_people()\n",
    "\n",
    "# Printing the name of the oldest person in the registry\n",
    "print(\"\\nThe oldest person in the registry:\")\n",
    "registry.oldest_person()\n"
   ]
  }
 ],
 "metadata": {
  "kernelspec": {
   "display_name": "Python 3",
   "language": "python",
   "name": "python3"
  },
  "language_info": {
   "codemirror_mode": {
    "name": "ipython",
    "version": 3
   },
   "file_extension": ".py",
   "mimetype": "text/x-python",
   "name": "python",
   "nbconvert_exporter": "python",
   "pygments_lexer": "ipython3",
   "version": "3.11.5"
  },
  "orig_nbformat": 4
 },
 "nbformat": 4,
 "nbformat_minor": 2
}
