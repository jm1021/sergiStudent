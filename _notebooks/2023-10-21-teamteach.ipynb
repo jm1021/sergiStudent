{
 "cells": [
  {
   "cell_type": "markdown",
   "metadata": {},
   "source": [
    "---\n",
    "toc: true\n",
    "comments: false\n",
    "layout: post\n",
    "title: Team Teach\n",
    "description: 3.14 Libraries\n",
    "type: plans\n",
    "courses: { compsci: {week: 7} }\n",
    "---"
   ]
  },
  {
   "cell_type": "markdown",
   "metadata": {},
   "source": [
    "<h1>3.14 Libraries</h1>\n",
    "A file that contains procedures that can be used in a program is called a library. An Application Program Interface, or API, contains specifications for how the procedures in a library behave and can be used. It allows the imported procedures from the library to interact with the rest of your code.\n",
    "<h2>Types of Libraries</h2>\n",
    "There are many types of libraries that modern day companies use, such as Requests, Pillow, Pandas, NumPy, SciKit-Learn, TensorFlow, and Matplotlib. Requests: The Requests library simplifies making HTTP requests in Python, making it easy to interact with web services and retrieve data from websites.\n",
    "\n",
    "Pillow: Pillow is a powerful image processing library for opening, manipulating, and saving various image formats in Python.\n",
    "\n",
    "Pandas: Pandas is a data manipulation and analysis library for efficiently working with structured data, including data import, cleaning, transformation, and analysis in tabular form.\n",
    "\n",
    "NumPy: NumPy is a fundamental library for numerical computing in Python, providing support for multidimensional arrays and a wide range of mathematical functions.\n",
    "\n",
    "Scikit-Learn: Scikit-Learn is a machine learning library that offers simple and efficient tools for data analysis and modeling, including classification, regression, and clustering.\n",
    "\n",
    "TensorFlow: TensorFlow is an open-source machine learning framework that facilitates deep learning and neural network development, supporting tasks like image recognition and natural language processing.\n",
    "\n",
    "Matplotlib: Matplotlib is a versatile plotting library for creating 2D and 3D visualizations and figures in Python, enabling a wide range of plots, charts, and graphs for data visualization and analysis. \n",
    "\n",
    "Libraries are, at their heart, a collection of other people's code, and it would be difficult to understand how the procedures should be used without documentation. APIs explain how two separate pieces of software interact with each other, and they also need documentation to keep this communication going.  \n",
    "\n",
    "<h2>Intro to Popcorn Hack 1</h2>\n",
    "We have now hopefully all done or seen this type of question about getting a robot from point a to point b. But this can be very tedious because it may take a lot of code to do that. Luckily, there’s a saving grace called procedures, procedures essentially shorten the amount of code that is needed. So for a robot example we have displayed, we will use the procedure “moveBackwards” to shorten the amount of code we would normally need. This will rotate our triangle 180 degrees. Here is the example and solution\n",
    "![]({{site.baseurl}}/images/robotexample.png)\n",
    "![]({{site.baseurl}}/images/solutionrobot.png)\n"
   ]
  },
  {
   "cell_type": "code",
   "execution_count": null,
   "metadata": {},
   "outputs": [],
   "source": [
    "#Pseudo Code\n",
    "CAN_MOVE_BACKWARD()\n",
    "MOVE_FORWARD()\n",
    "MOVE_FORWARD()\n",
    "ROTATE_LEFT()\n",
    "ROTATE_LEFT()\n",
    "ROTATE_LEFT()\n",
    "MOVE_FORWARD()\n",
    "MOVE_FORWARD()"
   ]
  },
  {
   "cell_type": "code",
   "execution_count": null,
   "metadata": {},
   "outputs": [],
   "source": [
    "# Python Code\n",
    "def CAN_MOVE_BACKWARD():\n",
    "    # Implement the logic to check if you can move backward\n",
    "    return True  # Replace with your logic\n",
    "\n",
    "def MOVE_FORWARD():\n",
    "    # Implement the logic to move forward\n",
    "    print(\"Moving forward\")\n",
    "\n",
    "def ROTATE_LEFT():\n",
    "    # Implement the logic to rotate to the left\n",
    "    print(\"Rotating left\")\n",
    "\n",
    "# Perform the movements\n",
    "if CAN_MOVE_BACKWARD():\n",
    "    MOVE_FORWARD()\n",
    "    MOVE_FORWARD()\n",
    "    ROTATE_LEFT()\n",
    "    ROTATE_LEFT()\n",
    "    ROTATE_LEFT()\n",
    "    MOVE_FORWARD()\n",
    "    MOVE_FORWARD()\n"
   ]
  },
  {
   "cell_type": "markdown",
   "metadata": {},
   "source": [
    "<h1> Popcorn Hack #1</h1>\n",
    "![]({{site.baseurl}}/images/robotpop1.png)\n",
    "Here you have another problem, use these following commands to solve the problem.\n",
    "![]({{site.baseurl}}/images/commands.png)"
   ]
  },
  {
   "cell_type": "code",
   "execution_count": null,
   "metadata": {},
   "outputs": [],
   "source": [
    "# Code goes here"
   ]
  },
  {
   "cell_type": "markdown",
   "metadata": {},
   "source": [
    "<h2>Documentation</h2>\n",
    "Documentation is what you need to know about the procedure. For example, Documentation for the calcAverage function is shown below and with this information, you can use this procedure without knowing what is really going on. The purpose of this is that it makes your coding go a lot faster, which most tech companies find very useful in today's society."
   ]
  },
  {
   "cell_type": "markdown",
   "metadata": {},
   "source": [
    "<h1>Popcorn Hack #2</h1>\n",
    "![]({{site.baseurl}}/images/intropop2.png)\n",
    "Use calcAverage procedure to get average for a set of grades (gpa)"
   ]
  },
  {
   "cell_type": "code",
   "execution_count": null,
   "metadata": {},
   "outputs": [],
   "source": [
    "#Pseudo Code\n",
    "FUNCTION calc_quotient(grade, credit):\n",
    "    RETURN grade * credit\n",
    "\n",
    "FUNCTION calculate_gpa():\n",
    "    PROMPT user to enter the number of courses\n",
    "    SET total_credits to 0\n",
    "    SET total_quotient to 0\n",
    "\n",
    "    FOR each course in range(num_courses):\n",
    "        PROMPT user to enter the grade for the course (0-4.0 scale)\n",
    "        PROMPT user to enter the credit hours for the course\n",
    "        SET course_grade to user input grade\n",
    "        SET course_credit to user input credit\n",
    "\n",
    "        SET course_quotient to calc_quotient(course_grade, course_credit)\n",
    "\n",
    "        ADD course_quotient to total_quotient\n",
    "        ADD course_credit to total_credits\n",
    "\n",
    "    IF total_credits is not equal to 0 THEN\n",
    "        SET gpa to total_quotient divided by total_credits\n",
    "        PRINT \"Your GPA is: \", gpa formatted to two decimal places\n",
    "    ELSE\n",
    "        PRINT \"Total credits cannot be zero. Please enter valid credit hours.\"\n",
    "\n",
    "CALL calculate_gpa()\n",
    "\n",
    "CACLGPA PSEUDOCODE\n",
    "\n",
    "\n",
    "FUNCTION calculateGPA(grades)\n",
    "    totalCreditPoints = 0\n",
    "    totalCredits = 0\n",
    "\n",
    "    FOR EACH grade IN grades\n",
    "        credit = grade.credit\n",
    "        score = grade.score\n",
    "        creditPoints = calcquotient(credit, score)\n",
    "        totalCreditPoints = totalCreditPoints + creditPoints\n",
    "        totalCredits = totalCredits + credit\n",
    "    END FOR\n",
    "\n",
    "    IF totalCredits > 0\n",
    "        GPA = totalCreditPoints / totalCredits\n",
    "    ELSE\n",
    "        GPA = 0  // To handle division by zero\n",
    "    END IF\n",
    "\n",
    "    RETURN GPA\n",
    "END FUNCTION\n",
    "\n",
    "FUNCTION calcquotient(credit, score)\n",
    "    // Calculate credit points based on a scale (e.g., 4.0 for A, 3.0 for B, etc.)\n",
    "    // You can define the scale based on your institution's grading system.\n",
    "    // For example, if you use a 4.0 scale:\n",
    "    IF score == \"A\"\n",
    "        creditPoints = 4.0 * credit\n",
    "    ELSE IF score == \"B\"\n",
    "        creditPoints = 3.0 * credit\n",
    "    ELSE IF score == \"C\"\n",
    "        creditPoints = 2.0 * credit\n",
    "    ELSE IF score == \"D\"\n",
    "        creditPoints = 1.0 * credit\n",
    "    ELSE\n",
    "        creditPoints = 0.0  // Handle unknown or failing grades\n",
    "    END IF\n",
    "\n",
    "    RETURN creditPoints\n",
    "END FUNCTION\n"
   ]
  },
  {
   "cell_type": "code",
   "execution_count": null,
   "metadata": {},
   "outputs": [],
   "source": [
    "# Python Code \n",
    "# Define the function calc_quotient\n",
    "def calc_quotient(grade, credit):\n",
    "    return grade * credit\n",
    "\n",
    "# Define the function calculate_gpa\n",
    "def calculate_gpa():\n",
    "    num_courses = int(input(\"Enter the number of courses: \"))\n",
    "    total_credits = 0\n",
    "    total_quotient = 0\n",
    "\n",
    "    for _ in range(num_courses):\n",
    "        course_grade = float(input(\"Enter the grade for the course (0-4.0 scale): \"))\n",
    "        course_credit = float(input(\"Enter the credit hours for the course: \"))\n",
    "\n",
    "        course_quotient = calc_quotient(course_grade, course_credit)\n",
    "\n",
    "        total_quotient += course_quotient\n",
    "        total_credits += course_credit\n",
    "\n",
    "    if total_credits != 0:\n",
    "        gpa = total_quotient / total_credits\n",
    "        print(f\"Your GPA is: {gpa:.2f}\")\n",
    "    else:\n",
    "        print(\"Total credits cannot be zero. Please enter valid credit hours.\")\n",
    "\n",
    "# Call the calculate_gpa function\n",
    "calculate_gpa()\n"
   ]
  },
  {
   "cell_type": "code",
   "execution_count": null,
   "metadata": {},
   "outputs": [],
   "source": [
    "# Code goes here"
   ]
  },
  {
   "cell_type": "markdown",
   "metadata": {},
   "source": [
    "<h2>API's</h2>\n",
    "A file that contains these procedures is a library. API’s provide specifications for how procedures in a library behave and can be used. In other words, API is a documentation for these libraries. Many large tech companies provide API for programmers to interact with their product."
   ]
  },
  {
   "cell_type": "markdown",
   "metadata": {},
   "source": [
    "<h2>Example of Libraries</h2>\n",
    "A good example of a library is the collegeboard AP CSP exam reference sheet. This is only 1 of the 6 pages.\n",
    "![]({{site.baseurl}}/images/realrefsheet.png)\n",
    "This includes a lot of key information that students will have access to during the AP exam.\n"
   ]
  },
  {
   "cell_type": "markdown",
   "metadata": {},
   "source": [
    "<h1>Popcorn Hack 3</h1>\n",
    "![]({{site.baseurl}}/images/pop3.png)\n",
    "Here is 1 of the 3 procedures from the exam reference sheet\n",
    "The popcorn hack is that you have to find the largest number (findLargestNumber) using this procedure\n"
   ]
  },
  {
   "cell_type": "code",
   "execution_count": null,
   "metadata": {},
   "outputs": [],
   "source": [
    "# Pseudo Code\n",
    "PROCEDURE procName(parameter1, parameter2, ...)\n",
    "{\n",
    "    // Block of statements to perform some computation\n",
    "    // using the parameters.\n",
    "    \n",
    "    // Calculate the result or expression.\n",
    "    result <- some_expression\n",
    "    \n",
    "    // Return the result.\n",
    "    RETURN result\n",
    "}"
   ]
  },
  {
   "cell_type": "code",
   "execution_count": null,
   "metadata": {},
   "outputs": [],
   "source": [
    "# Python Code\n",
    "# Define a Python function with parameters\n",
    "def procName(parameter1, parameter2, ...):\n",
    "    # Block of statements to perform some computation\n",
    "    # using the parameters.\n",
    "    \n",
    "    # Calculate the result or expression.\n",
    "    result = some_expression\n",
    "    \n",
    "    # Return the result.\n",
    "    return result\n"
   ]
  },
  {
   "cell_type": "code",
   "execution_count": null,
   "metadata": {},
   "outputs": [],
   "source": [
    "# Code goes here"
   ]
  },
  {
   "cell_type": "markdown",
   "metadata": {},
   "source": [
    "<h1>Optional Popcorn Hacks For Extra Credit!</h1>\n",
    "These hacks are completely optional and are for extra credit!\n",
    "![]({{site.baseurl}}/images/opt1.png)\n",
    "![]({{site.baseurl}}/images/opt2.png)\n",
    "For the first one, find the average of all numbers\n",
    "For the second one, find the factorial of a number"
   ]
  },
  {
   "cell_type": "code",
   "execution_count": null,
   "metadata": {},
   "outputs": [],
   "source": [
    "# Code for #1 goes here"
   ]
  },
  {
   "cell_type": "code",
   "execution_count": null,
   "metadata": {},
   "outputs": [],
   "source": [
    "# Code for #2 goes here"
   ]
  },
  {
   "cell_type": "markdown",
   "metadata": {},
   "source": [
    "<h1>Homework!</h1>\n",
    "For our homework hack, you are given 4 procedures right here, choose the right one (there is only 1 right answer) and write code for a gpa calculation.\n",
    "![]({{site.baseurl}}/images/hwhack.png)"
   ]
  },
  {
   "cell_type": "code",
   "execution_count": null,
   "metadata": {},
   "outputs": [],
   "source": [
    "# Code goes here"
   ]
  },
  {
   "cell_type": "markdown",
   "metadata": {},
   "source": [
    "<h1>Thank You!</h1>"
   ]
  }
 ],
 "metadata": {
  "language_info": {
   "name": "python"
  },
  "orig_nbformat": 4
 },
 "nbformat": 4,
 "nbformat_minor": 2
}
