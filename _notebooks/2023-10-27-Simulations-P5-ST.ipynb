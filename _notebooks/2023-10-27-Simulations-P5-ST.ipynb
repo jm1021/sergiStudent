{
 "cells": [
  {
   "cell_type": "markdown",
   "metadata": {},
   "source": [
    "---\n",
    "comments: true\n",
    "layout: post\n",
    "title: Simulations - Student Teach\n",
    "description: Student Lesson\n",
    "type: hacks\n",
    "courses: { compsci: {week: 2} }\n",
    "---"
   ]
  },
  {
   "cell_type": "markdown",
   "metadata": {},
   "source": [
    "## Simulations \n"
   ]
  },
  {
   "cell_type": "markdown",
   "metadata": {},
   "source": [
    "> A simulation is the use of a computer software to represent the dynamic responses of one system by the behaviour of another system modeled after it. A simulation uses a mathematical descriptions, or models, of a real system in the form of a computer program."
   ]
  },
  {
   "cell_type": "markdown",
   "metadata": {},
   "source": [
    "![simulation](https://www.simscale.com/wp-content/uploads/2022/11/dron-quadcopter-simulation.png)"
   ]
  },
  {
   "cell_type": "markdown",
   "metadata": {},
   "source": [
    "## College Board Essential Knowledge"
   ]
  },
  {
   "cell_type": "markdown",
   "metadata": {},
   "source": [
    "> Simulation are absractions of more complex objects or phenomena for a specific purpose \n",
    "\n",
    "- Mimic Real World Events\n",
    "- Allows investigation of phenomenons without contraints of the Real World\n",
    "- Helps you draw accurate inferences\n",
    "\n",
    "> Simulations utilize varying sets of values to reflect the changings states of a phenomenon\n",
    "\n",
    "- simulations can simplfly things for functionality\n",
    "- Simulations can contain bias from real world elements, that were chosen to be included or excluded\n",
    "\n",
    "> Simulations work best when the real world experemnts are too impractical or time consuming. For example, simulating how different cars behave when they crash, would be much better than crashng actual cars in the real world, which would be expensive and dangerous.\n",
    "\n",
    "<a href=\"https://ibb.co/f4jKcBY\"><img src=\"https://i.ibb.co/NZck4Q6/simulations-vs-experiments.png\" alt=\"simulations-vs-experiments\" border=\"0\"></a>\n"
   ]
  },
  {
   "cell_type": "markdown",
   "metadata": {},
   "source": [
    "## Rolling the Dice"
   ]
  },
  {
   "cell_type": "markdown",
   "metadata": {},
   "source": [
    "<a href=\"https://ibb.co/PGBhfPD\"><img src=\"https://i.ibb.co/XxmsvKY/craps-rolling-seven-7.jpg\" alt=\"craps-rolling-seven-7\" border=\"0\"></a>\n",
    "\n",
    "> Simulating something like a dice roll in real life would require accounting for things like: weight, flaws in design, thrust, and gravity.\n",
    "- KEEP IT SIMPLE! just use a random-number generator! Ignore minor causes of variablility"
   ]
  },
  {
   "cell_type": "markdown",
   "metadata": {},
   "source": [
    "## Random"
   ]
  },
  {
   "cell_type": "markdown",
   "metadata": {},
   "source": [
    "- \"Random\" is a built-in python function that allow the user to draw a random value from a set range.\n",
    "- A Random Number Generator (RNG) is a common simulation that selects a random value from an array.\n",
    "- The following code cell utilizes \"random\" to select a number from 1 to 100."
   ]
  },
  {
   "cell_type": "code",
   "execution_count": 16,
   "metadata": {},
   "outputs": [
    {
     "name": "stdout",
     "output_type": "stream",
     "text": [
      "33\n"
     ]
    }
   ],
   "source": [
    "#imports random module so we can use it in our code\n",
    "import random\n",
    "\n",
    "#sets variable random_number as a random number between 1 and 100\n",
    "random_number = random.randint(1, 100)\n",
    "\n",
    "#Printing out your random Number\n",
    "print(random_number)"
   ]
  },
  {
   "cell_type": "markdown",
   "metadata": {},
   "source": [
    "## More complex usage of \"random\"; Coin Toss Simulation"
   ]
  },
  {
   "cell_type": "code",
   "execution_count": 1,
   "metadata": {},
   "outputs": [
    {
     "name": "stdout",
     "output_type": "stream",
     "text": [
      "Number of Heads: 501\n",
      "Number of Tails: 499\n",
      "Heads Probability: {0.501}\n",
      "Tails Probability: {0.499}\n"
     ]
    }
   ],
   "source": [
    "import random\n",
    "def flip_coin():\n",
    "    return random.choice([\"Heads\", \"Tails\"])\n",
    "def coin_flip_simulation(num_flips):\n",
    "    heads_count = 0\n",
    "    tails_count = 0\n",
    "    for _ in range(num_flips):\n",
    "        result = flip_coin()\n",
    "        if result == \"Heads\":\n",
    "            heads_count += 1\n",
    "        else:\n",
    "            tails_count += 1\n",
    "    return heads_count, tails_count\n",
    "if __name__ == \"__main__\":\n",
    "    num_flips = 1000  #This is the number of coin flips you want to simulate\n",
    "    heads, tails = coin_flip_simulation(num_flips)\n",
    "    print(\"Number of Heads: \"+ str(heads))\n",
    "    print(\"Number of Tails: \" + str(tails))\n",
    "    print(\"Heads Probability: \"+ str({heads / num_flips}))\n",
    "    print(\"Tails Probability: \"+ str({tails / num_flips}))"
   ]
  },
  {
   "cell_type": "markdown",
   "metadata": {},
   "source": [
    "## Popcorn Hack #1"
   ]
  },
  {
   "cell_type": "markdown",
   "metadata": {},
   "source": [
    "Utilize \"random\" to create a basic simulation of a rolling TWO dice. Print the sum of both dice rolls. Remember to practice good syntax when naming your variables. "
   ]
  },
  {
   "cell_type": "code",
   "execution_count": 22,
   "metadata": {},
   "outputs": [
    {
     "name": "stdout",
     "output_type": "stream",
     "text": [
      "Average Sum of Two Dice Rolls: 7.04\n"
     ]
    }
   ],
   "source": [
    "import random\n",
    "\n",
    "def roll_die():\n",
    "    return random.randint(1, 6)  # Simulate a single die roll (1 to 6)\n",
    "\n",
    "def dice_roll_simulation(num_rolls):\n",
    "    sum_of_rolls = 0\n",
    "    for _ in range(num_rolls):\n",
    "        roll1 = roll_die()\n",
    "        roll2 = roll_die()\n",
    "        sum_of_rolls += roll1 + roll2\n",
    "    return sum_of_rolls\n",
    "\n",
    "if __name__ == \"__main__\":\n",
    "    num_rolls = 1000  # Number of dice rolls you want to simulate\n",
    "    total_sum = dice_roll_simulation(num_rolls)\n",
    "    average_sum = total_sum / num_rolls\n",
    "    \n",
    "    print(\"Average Sum of Two Dice Rolls: {:.2f}\".format(average_sum))\n"
   ]
  },
  {
   "cell_type": "markdown",
   "metadata": {},
   "source": [
    "## Algorithms\n",
    ">Simulations often utilize algorithms and equations to perform tasks because simulations don't always have the same output\n",
    "- the output of a simulation depends on the input\n",
    "\n",
    ">An algorithm is a finite sequence of instructions used to solve problems or perform computations. \n",
    "- commonly used alongside functions\n"
   ]
  },
  {
   "cell_type": "markdown",
   "metadata": {},
   "source": [
    "## Example Algorithm in a function"
   ]
  },
  {
   "cell_type": "code",
   "execution_count": 42,
   "metadata": {},
   "outputs": [
    {
     "data": {
      "text/plain": [
       "7"
      ]
     },
     "execution_count": 42,
     "metadata": {},
     "output_type": "execute_result"
    }
   ],
   "source": [
    "#Defining Function\n",
    "def algorithm(input):\n",
    "    \n",
    "    #Manipulating input and preparing it for the output.  \n",
    "    output = input+2\n",
    "    \n",
    "    #Return the output\n",
    "    return output\n",
    "\n",
    "#Call the Function to start the algorithm\n",
    "algorithm(5)\n",
    "    "
   ]
  },
  {
   "cell_type": "markdown",
   "metadata": {},
   "source": [
    "## Mathematics\n",
    "- Math can also prove to be very useful in certain types of situations.\n",
    "- Commonly used along with Algorithms when simulating various things\n",
    "\n",
    "![math](https://pythontutorialhome.files.wordpress.com/2019/05/image-2.png)\n"
   ]
  },
  {
   "cell_type": "markdown",
   "metadata": {},
   "source": [
    "## Popcorn Hack #2"
   ]
  },
  {
   "cell_type": "markdown",
   "metadata": {},
   "source": [
    "Simulate how long an object will fall for using an algorithm, with user-inputed variables for height dropped. Use the following formula as a reference.\n",
    "\n",
    "![gravity ](https://hepweb.ucsd.edu/ph110b/110b_notes/img272.png)\n",
    "\n",
    "- t = time (output)\n",
    "- h = height dropped from (input)\n",
    "- g = constant (given)"
   ]
  },
  {
   "cell_type": "code",
   "execution_count": 30,
   "metadata": {},
   "outputs": [
    {
     "ename": "SyntaxError",
     "evalue": "invalid decimal literal (20769856.py, line 14)",
     "output_type": "error",
     "traceback": [
      "\u001b[0;36m  Cell \u001b[0;32mIn[30], line 14\u001b[0;36m\u001b[0m\n\u001b[0;31m    print(object will take (time_to_fall: .2f) seconds to fall)\u001b[0m\n\u001b[0m                                           ^\u001b[0m\n\u001b[0;31mSyntaxError\u001b[0m\u001b[0;31m:\u001b[0m invalid decimal literal\n"
     ]
    }
   ],
   "source": [
    "# Constant, Acceleration due to gravity (m/s^2)\n",
    "G = 9.81 \n",
    "\n",
    "height_dropped = float(input(\"enter your number\"))\n",
    "def simulation(height_dropped):\n",
    "    # Code Code Code\n",
    "    import math\n",
    "    \n",
    "    time_to_fall = math.sqrt((2 * height_dropped) / G)\n",
    "    return time_to_fall\n",
    "    \n",
    "    time_to_fall - simulation(height_dropped)\n",
    "    \n",
    "    print(object will take (time_to_fall: .2f) seconds to fall)"
   ]
  },
  {
   "cell_type": "markdown",
   "metadata": {},
   "source": [
    "# Using Loops in Simulations"
   ]
  },
  {
   "cell_type": "markdown",
   "metadata": {},
   "source": [
    "> For loops can also be used in simulations\n",
    "- They can simulate events that repeat but don't always have the same output\n"
   ]
  },
  {
   "cell_type": "code",
   "execution_count": 44,
   "metadata": {},
   "outputs": [
    {
     "name": "stdout",
     "output_type": "stream",
     "text": [
      "This is run number: 0\n",
      "This is run number: 1\n",
      "This is run number: 2\n",
      "This is run number: 3\n"
     ]
    }
   ],
   "source": [
    "# Example For Loop\n",
    "\n",
    "#Creating For Loop to repeat 4 times\n",
    "for i in range(4):\n",
    "    \n",
    "    #Action that happens inside for loop\n",
    "    print(\"This is run number: \" + str(i))\n",
    "    "
   ]
  },
  {
   "cell_type": "markdown",
   "metadata": {},
   "source": [
    "## Popcorn Hack #3"
   ]
  },
  {
   "cell_type": "markdown",
   "metadata": {},
   "source": [
    "You are gambling addict (sigma). \n",
    "\n",
    "Each session you roll 2 dice.\n",
    "\n",
    "If your dice roll is greater than or equal to 9 you win the session.\n",
    "\n",
    "If you win over 5 sessions, you win the jackpot.\n",
    "\n",
    "Simulate your odds to predict if you will hit the jackpot (how many rounds did you win?) using a for loop and random.\n"
   ]
  },
  {
   "cell_type": "code",
   "execution_count": 280,
   "metadata": {},
   "outputs": [
    {
     "name": "stdout",
     "output_type": "stream",
     "text": [
      "Simulated 12 rounds.\n",
      "Jackpot won after 5 sessions.\n",
      "Estimated Jackpot Probability: 41.67%\n"
     ]
    }
   ],
   "source": [
    "import random\n",
    "\n",
    "def roll_two_dice():\n",
    "    return random.randint(1, 6) + random.randint(1, 6)\n",
    "\n",
    "# Simulate the game\n",
    "total_rounds = 0\n",
    "rounds_won = 0\n",
    "\n",
    "while rounds_won < 5:  # Continue until you win the jackpot (5 sessions won)\n",
    "    total_rounds += 1\n",
    "    wins_in_session = 0\n",
    "    \n",
    "    for _ in range(2):  # Simulate rolling the dice in 2 sessions per round\n",
    "        dice_roll = roll_two_dice()\n",
    "        \n",
    "        if dice_roll >= 9:\n",
    "            wins_in_session += 1\n",
    "    \n",
    "    if wins_in_session >= 1:  # You win a session if you get at least one win\n",
    "        rounds_won += 1\n",
    "\n",
    "jackpot_probability = rounds_won / total_rounds  # Calculate the probability\n",
    "\n",
    "print(f\"Simulated {total_rounds} rounds.\")\n",
    "print(f\"Jackpot won after {rounds_won} sessions.\")\n",
    "print(f\"Estimated Jackpot Probability: {jackpot_probability:.2%}\")\n"
   ]
  },
  {
   "cell_type": "markdown",
   "metadata": {},
   "source": [
    "## BONUS POPCORN HACK\n",
    "> Welcome to Flight Simulator! Your goal is to complete a Python program that simulates a flight We've set up some initial values for altitude, speed, and fuel. Your task is to update these values to make the flight more realistic.\n",
    "\n",
    "- Your mission:\n",
    "\n",
    "1. Use random changes to simulate altitude, speed, and fuel changes.\n",
    "2. Keep the flight going until it reaches 10,000 feet or runs out of fuel.\n",
    "3. Make sure altitude, speed, and fuel remain realistic."
   ]
  },
  {
   "cell_type": "code",
   "execution_count": 64,
   "metadata": {},
   "outputs": [
    {
     "name": "stdout",
     "output_type": "stream",
     "text": [
      "Welcome to Flight Simulator!\n",
      "Altitude: 242 feet, Speed: 100 knots, Fuel: 99.52 gallons\n",
      "Altitude: 508 feet, Speed: 141 knots, Fuel: 98.05 gallons\n",
      "Altitude: 638 feet, Speed: 155 knots, Fuel: 97.76 gallons\n",
      "Altitude: 1022 feet, Speed: 187 knots, Fuel: 97.54 gallons\n",
      "Altitude: 1269 feet, Speed: 206 knots, Fuel: 96.36 gallons\n",
      "Altitude: 1615 feet, Speed: 254 knots, Fuel: 95.32 gallons\n",
      "Altitude: 1900 feet, Speed: 304 knots, Fuel: 94.15 gallons\n",
      "Altitude: 2090 feet, Speed: 321 knots, Fuel: 92.31 gallons\n",
      "Altitude: 2323 feet, Speed: 362 knots, Fuel: 91.00 gallons\n",
      "Altitude: 2489 feet, Speed: 400 knots, Fuel: 90.86 gallons\n",
      "Altitude: 2783 feet, Speed: 419 knots, Fuel: 89.95 gallons\n",
      "Altitude: 2890 feet, Speed: 452 knots, Fuel: 88.03 gallons\n",
      "Altitude: 3162 feet, Speed: 483 knots, Fuel: 87.34 gallons\n",
      "Altitude: 3565 feet, Speed: 502 knots, Fuel: 85.54 gallons\n",
      "Altitude: 3752 feet, Speed: 522 knots, Fuel: 84.06 gallons\n",
      "Altitude: 4034 feet, Speed: 535 knots, Fuel: 83.38 gallons\n",
      "Altitude: 4390 feet, Speed: 548 knots, Fuel: 82.37 gallons\n",
      "Altitude: 4643 feet, Speed: 591 knots, Fuel: 81.52 gallons\n",
      "Altitude: 4857 feet, Speed: 600 knots, Fuel: 81.32 gallons\n",
      "Altitude: 5221 feet, Speed: 600 knots, Fuel: 80.52 gallons\n",
      "Altitude: 5582 feet, Speed: 600 knots, Fuel: 80.22 gallons\n",
      "Altitude: 5979 feet, Speed: 600 knots, Fuel: 79.62 gallons\n",
      "Altitude: 6323 feet, Speed: 600 knots, Fuel: 78.22 gallons\n",
      "Altitude: 6491 feet, Speed: 600 knots, Fuel: 77.73 gallons\n",
      "Altitude: 6700 feet, Speed: 600 knots, Fuel: 75.79 gallons\n",
      "Altitude: 7147 feet, Speed: 600 knots, Fuel: 75.53 gallons\n",
      "Altitude: 7549 feet, Speed: 600 knots, Fuel: 74.97 gallons\n",
      "Altitude: 7785 feet, Speed: 600 knots, Fuel: 73.90 gallons\n",
      "Altitude: 7910 feet, Speed: 600 knots, Fuel: 72.45 gallons\n",
      "Altitude: 8260 feet, Speed: 600 knots, Fuel: 71.29 gallons\n",
      "Altitude: 8520 feet, Speed: 600 knots, Fuel: 71.08 gallons\n",
      "Altitude: 8742 feet, Speed: 600 knots, Fuel: 69.57 gallons\n",
      "Altitude: 9205 feet, Speed: 600 knots, Fuel: 69.28 gallons\n",
      "Altitude: 9323 feet, Speed: 600 knots, Fuel: 69.14 gallons\n",
      "Altitude: 9642 feet, Speed: 600 knots, Fuel: 67.86 gallons\n",
      "Altitude: 10000 feet, Speed: 600 knots, Fuel: 67.45 gallons\n",
      "Reached 10,000 feet. Mission accomplished!\n"
     ]
    }
   ],
   "source": [
    "import random\n",
    "\n",
    "# Initial parameters\n",
    "altitude = 0\n",
    "speed = 0\n",
    "fuel = 100\n",
    "\n",
    "print(\"Welcome to Flight Simulator!\")\n",
    "\n",
    "# Simulation loop\n",
    "while altitude < 10000 and fuel > 0:\n",
    "    # Simulate altitude change\n",
    "    altitude_change = random.randint(100, 500)\n",
    "    altitude += altitude_change\n",
    "\n",
    "    # Ensure altitude stays within realistic bounds (0 to 10000 feet)\n",
    "    altitude = max(0, min(altitude, 10000))\n",
    "\n",
    "    # Simulate speed change\n",
    "    speed_change = random.randint(10, 50)\n",
    "    speed += speed_change\n",
    "\n",
    "    # Ensure speed stays within realistic bounds (100 to 600 knots)\n",
    "    speed = max(100, min(speed, 600))\n",
    "\n",
    "    # Simulate fuel consumption\n",
    "    fuel_consumption = random.uniform(0.1, 2.0)\n",
    "    fuel -= fuel_consumption\n",
    "\n",
    "    # Ensure fuel remains non-negative\n",
    "    fuel = max(0, fuel)\n",
    "\n",
    "    # Display current status\n",
    "    print(f\"Altitude: {altitude} feet, Speed: {speed} knots, Fuel: {fuel:.2f} gallons\")\n",
    "\n",
    "# End of simulation\n",
    "if altitude >= 10000:\n",
    "    print(\"Reached 10,000 feet. Mission accomplished!\")\n",
    "else:\n",
    "    print(\"Out of fuel. Mission failed!\")\n"
   ]
  },
  {
   "cell_type": "markdown",
   "metadata": {},
   "source": [
    "## QUIZ TIME"
   ]
  },
  {
   "cell_type": "markdown",
   "metadata": {},
   "source": [
    "- Quick true or false quiz, whoever answers this correctly(raise your hand) gets a piece of gum or a dinero. \n",
    "<hr>\n",
    "\n",
    "> T or F    \n",
    "- A simulation will always have the same result.\n",
    "> T or F    \n",
    "- A simulation investigates a phenomenom without real-world constraints of time, money, or safety.\n",
    "> T or F    \n",
    "- A simulation has results which are more accurate than an experiment,\n",
    "> T or F    \n",
    "- A simulation can model real-worl events that are not practical for experiments"
   ]
  },
  {
   "cell_type": "markdown",
   "metadata": {},
   "source": [
    "## HOMEWORK HACK #1 "
   ]
  },
  {
   "cell_type": "markdown",
   "metadata": {},
   "source": [
    "First finish Popcorn Hack #3. Expand the simulation to involve your own money.\n",
    "\n",
    "starting money: $100\n",
    "\n",
    "(Dice Roll <= 3) &rarr; lose $70\n",
    "\n",
    "( 6> Dice Roll >3) &rarr; lose $40\n",
    "\n",
    "( 9> Dice Roll >=6) &rarr; win $20\n",
    "\n",
    "( Dice Roll>= 9 + Session Win) &rarr; win $50\n",
    "\n",
    "Jackpot &rarr; win $100"
   ]
  },
  {
   "cell_type": "code",
   "execution_count": 281,
   "metadata": {},
   "outputs": [
    {
     "name": "stdout",
     "output_type": "stream",
     "text": [
      "Welcome to Flight Simulator!\n",
      "Altitude: 368 feet, Speed: 100 knots, Fuel: 99.42 gallons, Money: $150.00\n",
      "Altitude: 659 feet, Speed: 143 knots, Fuel: 97.78 gallons, Money: $110.00\n",
      "Altitude: 1087 feet, Speed: 155 knots, Fuel: 96.99 gallons, Money: $160.00\n",
      "Altitude: 1436 feet, Speed: 187 knots, Fuel: 96.67 gallons, Money: $180.00\n",
      "Altitude: 1914 feet, Speed: 215 knots, Fuel: 94.79 gallons, Money: $200.00\n",
      "Altitude: 2377 feet, Speed: 236 knots, Fuel: 94.62 gallons, Money: $160.00\n",
      "Altitude: 2696 feet, Speed: 250 knots, Fuel: 93.39 gallons, Money: $90.00\n",
      "Altitude: 2996 feet, Speed: 273 knots, Fuel: 91.50 gallons, Money: $110.00\n",
      "Altitude: 3409 feet, Speed: 308 knots, Fuel: 90.37 gallons, Money: $40.00\n",
      "Altitude: 3688 feet, Speed: 320 knots, Fuel: 89.56 gallons, Money: $60.00\n",
      "Altitude: 3957 feet, Speed: 360 knots, Fuel: 88.70 gallons, Money: $110.00\n",
      "Altitude: 4158 feet, Speed: 400 knots, Fuel: 87.84 gallons, Money: $160.00\n",
      "Altitude: 4368 feet, Speed: 419 knots, Fuel: 86.86 gallons, Money: $210.00\n",
      "Altitude: 4796 feet, Speed: 429 knots, Fuel: 86.20 gallons, Money: $140.00\n",
      "Altitude: 5122 feet, Speed: 461 knots, Fuel: 84.67 gallons, Money: $160.00\n",
      "Altitude: 5346 feet, Speed: 508 knots, Fuel: 84.07 gallons, Money: $180.00\n",
      "Altitude: 5741 feet, Speed: 544 knots, Fuel: 82.76 gallons, Money: $110.00\n",
      "Altitude: 5954 feet, Speed: 594 knots, Fuel: 80.76 gallons, Money: $130.00\n",
      "Altitude: 6194 feet, Speed: 600 knots, Fuel: 79.68 gallons, Money: $180.00\n",
      "Altitude: 6606 feet, Speed: 600 knots, Fuel: 77.68 gallons, Money: $110.00\n",
      "Altitude: 6751 feet, Speed: 600 knots, Fuel: 77.15 gallons, Money: $40.00\n",
      "Altitude: 7019 feet, Speed: 600 knots, Fuel: 76.94 gallons, Money: $60.00\n",
      "Altitude: 7472 feet, Speed: 600 knots, Fuel: 76.05 gallons, Money: $80.00\n",
      "Altitude: 7834 feet, Speed: 600 knots, Fuel: 74.13 gallons, Money: $10.00\n",
      "Altitude: 7974 feet, Speed: 600 knots, Fuel: 72.50 gallons, Money: $60.00\n",
      "Altitude: 8358 feet, Speed: 600 knots, Fuel: 71.39 gallons, Money: $80.00\n",
      "Altitude: 8546 feet, Speed: 600 knots, Fuel: 70.25 gallons, Money: $40.00\n",
      "Altitude: 8892 feet, Speed: 600 knots, Fuel: 69.62 gallons, Money: $-30.00\n",
      "Altitude: 9096 feet, Speed: 600 knots, Fuel: 67.62 gallons, Money: $20.00\n",
      "Altitude: 9311 feet, Speed: 600 knots, Fuel: 66.80 gallons, Money: $40.00\n",
      "Altitude: 9534 feet, Speed: 600 knots, Fuel: 66.60 gallons, Money: $0.00\n",
      "Altitude: 9806 feet, Speed: 600 knots, Fuel: 64.73 gallons, Money: $-40.00\n",
      "Altitude: 10000 feet, Speed: 600 knots, Fuel: 63.07 gallons, Money: $-80.00\n",
      "Reached 10,000 feet. Mission accomplished!\n"
     ]
    }
   ],
   "source": [
    "import random\n",
    "\n",
    "# Initial parameters\n",
    "altitude = 0\n",
    "speed = 0\n",
    "fuel = 100\n",
    "money = 100  # Starting money\n",
    "\n",
    "print(\"Welcome to Flight Simulator!\")\n",
    "\n",
    "# Simulation loop\n",
    "while altitude < 10000 and fuel > 0:\n",
    "    # Simulate altitude change\n",
    "    altitude_change = random.randint(100, 500)\n",
    "    altitude += altitude_change\n",
    "\n",
    "    # Ensure altitude stays within realistic bounds (0 to 10000 feet)\n",
    "    altitude = max(0, min(altitude, 10000))\n",
    "\n",
    "    # Simulate speed change\n",
    "    speed_change = random.randint(10, 50)\n",
    "    speed += speed_change\n",
    "\n",
    "    # Ensure speed stays within realistic bounds (100 to 600 knots)\n",
    "    speed = max(100, min(speed, 600))\n",
    "\n",
    "    # Simulate fuel consumption\n",
    "    fuel_consumption = random.uniform(0.1, 2.0)\n",
    "    fuel -= fuel_consumption\n",
    "\n",
    "    # Ensure fuel remains non-negative\n",
    "    fuel = max(0, fuel)\n",
    "\n",
    "    # Simulate dice roll\n",
    "    dice_roll = random.randint(1, 12)\n",
    "\n",
    "    # Update money based on dice roll\n",
    "    if dice_roll <= 3:\n",
    "        money -= 70\n",
    "    elif 6 > dice_roll > 3:\n",
    "        money -= 40\n",
    "    elif 9 > dice_roll >= 6:\n",
    "        money += 20\n",
    "    elif dice_roll >= 9:\n",
    "        money += 50\n",
    "\n",
    "    # Display current status including money\n",
    "    print(f\"Altitude: {altitude} feet, Speed: {speed} knots, Fuel: {fuel:.2f} gallons, Money: ${money:.2f}\")\n",
    "\n",
    "# End of simulation\n",
    "if altitude >= 10000:\n",
    "    print(\"Reached 10,000 feet. Mission accomplished!\")\n",
    "else:\n",
    "    print(\"Out of fuel. Mission failed!\")\n",
    "\n",
    "# Check for Jackpot and update money\n",
    "if dice_roll == 12:\n",
    "    money += 100\n",
    "    print(\"Congratulations! You've won the Jackpot! $100 added to your money.\")\n"
   ]
  },
  {
   "cell_type": "markdown",
   "metadata": {},
   "source": [
    "## HOMEWORK HACK #2"
   ]
  },
  {
   "cell_type": "markdown",
   "metadata": {},
   "source": [
    "> Given initial parameters for a car simulation, including its initial speed, acceleration rate, deceleration rate, maximum speed, and initial distance, write a  program to simulate the car's journey and determine the final speed, distance covered, and time taken before it either covers 1000 meters or slows down to below 5 m/s?"
   ]
  },
  {
   "cell_type": "code",
   "execution_count": 303,
   "metadata": {},
   "outputs": [
    {
     "name": "stdout",
     "output_type": "stream",
     "text": [
      "Final Speed: 56.89 m/s\n",
      "Distance Covered: 1018.11 meters\n",
      "Time Taken: 219 seconds\n",
      "Car covered 1000 meters.\n"
     ]
    }
   ],
   "source": [
    "import random\n",
    "\n",
    "# Initial parameters\n",
    "initial_speed = 50  # Initial speed in m/s\n",
    "max_acceleration_rate = 4  # Maximum acceleration rate in m/s^2\n",
    "max_deceleration_rate = 3  # Maximum deceleration rate in m/s^2\n",
    "max_speed = 80  # Maximum speed in m/s\n",
    "initial_distance = 0  # Initial distance in meters\n",
    "\n",
    "# Initialize variables\n",
    "speed = initial_speed\n",
    "distance = initial_distance\n",
    "time = 200\n",
    "\n",
    "# Simulation loop\n",
    "while distance < 1000 and speed >= 5:\n",
    "    # Update time\n",
    "    time += 1\n",
    "\n",
    "    # Simulate random acceleration or deceleration\n",
    "    acceleration = random.uniform(-max_deceleration_rate, max_acceleration_rate)\n",
    "    speed += acceleration\n",
    "\n",
    "    # Cap the speed at the maximum speed\n",
    "    speed = min(speed, max_speed)\n",
    "\n",
    "    # Calculate the distance covered in this time step\n",
    "    distance_covered = speed\n",
    "\n",
    "    # Update distance\n",
    "    distance += distance_covered\n",
    "\n",
    "# Print results\n",
    "print(f\"Final Speed: {speed:.2f} m/s\")\n",
    "print(f\"Distance Covered: {distance:.2f} meters\")\n",
    "print(f\"Time Taken: {time} seconds\")\n",
    "\n",
    "# Check for stopping condition\n",
    "if distance >= 1000:\n",
    "    print(\"Car covered 1000 meters.\")\n",
    "else:\n",
    "    print(\"Car slowed down to below 5 m/s.\")\n"
   ]
  }
 ],
 "metadata": {
  "kernelspec": {
   "display_name": "Python 3",
   "language": "python",
   "name": "python3"
  },
  "language_info": {
   "codemirror_mode": {
    "name": "ipython",
    "version": 3
   },
   "file_extension": ".py",
   "mimetype": "text/x-python",
   "name": "python",
   "nbconvert_exporter": "python",
   "pygments_lexer": "ipython3",
   "version": "3.11.6"
  },
  "orig_nbformat": 4
 },
 "nbformat": 4,
 "nbformat_minor": 2
}
