{
 "cells": [
  {
   "cell_type": "markdown",
   "metadata": {},
   "source": [
    "---\n",
    "toc: true\n",
    "comments: false\n",
    "layout: post\n",
    "title: Python Overview\n",
    "description: Python Learning\n",
    "type: hacks\n",
    "courses: { compsci: {week: 10} }\n",
    "---"
   ]
  },
  {
   "cell_type": "markdown",
   "metadata": {},
   "source": [
    "## Python:\n",
    "\n",
    "### Overview: \n",
    "Python is a high-level, versatile, and widely-used programming language known for its simplicity and readability. It supports various programming paradigms, including procedural, object-oriented, and functional programming. Python is often used for web development, data analysis, scientific computing, artificial intelligence, and more.\n",
    "\n",
    "### Readability: \n",
    "Python's clean and easy-to-read syntax makes it an excellent choice for beginners and experienced programmers alike.\n",
    "\n",
    "### Interpreted: \n",
    "Python is an interpreted language, which means that you can execute code directly, making it easy for experimentation and development.\n",
    "\n",
    "### Large Standard Library: \n",
    "Python comes with a vast standard library that includes modules and packages for a wide range of tasks, reducing the need for external libraries.\n",
    "\n",
    "### Cross-Platform: \n",
    "Python is available on various platforms and operating systems, making it highly portable."
   ]
  },
  {
   "cell_type": "markdown",
   "metadata": {},
   "source": [
    "## Examples: "
   ]
  },
  {
   "cell_type": "markdown",
   "metadata": {},
   "source": [
    "# 1"
   ]
  },
  {
   "cell_type": "code",
   "execution_count": 1,
   "metadata": {},
   "outputs": [
    {
     "name": "stdout",
     "output_type": "stream",
     "text": [
      "I love apple\n",
      "I love banana\n",
      "I love cherry\n"
     ]
    }
   ],
   "source": [
    "# Create a list of fruits\n",
    "fruits = [\"apple\", \"banana\", \"cherry\"]\n",
    "\n",
    "# Iterate over the list and display each fruit\n",
    "for fruit in fruits:\n",
    "    print(\"I love \" + fruit)\n"
   ]
  },
  {
   "cell_type": "markdown",
   "metadata": {},
   "source": [
    "# 2"
   ]
  },
  {
   "cell_type": "code",
   "execution_count": 2,
   "metadata": {},
   "outputs": [
    {
     "name": "stdout",
     "output_type": "stream",
     "text": [
      "['a']\n"
     ]
    }
   ],
   "source": [
    "aList = []\n",
    "\n",
    "while True:\n",
    "    USER_INPUT = input(\"Enter an item you want (or 'q' to quit): \")\n",
    "    if USER_INPUT == 'q':\n",
    "        break\n",
    "    aList.append(USER_INPUT)\n",
    "\n",
    "print(aList)\n"
   ]
  },
  {
   "cell_type": "markdown",
   "metadata": {},
   "source": [
    "# 3"
   ]
  },
  {
   "cell_type": "code",
   "execution_count": 3,
   "metadata": {},
   "outputs": [
    {
     "name": "stdout",
     "output_type": "stream",
     "text": [
      "It's true!\n"
     ]
    }
   ],
   "source": [
    "A = True\n",
    "B = True\n",
    "\n",
    "if A and B:\n",
    "    print(\"It's true!\")\n"
   ]
  },
  {
   "cell_type": "markdown",
   "metadata": {},
   "source": [
    "# 4"
   ]
  },
  {
   "cell_type": "code",
   "execution_count": 4,
   "metadata": {},
   "outputs": [
    {
     "name": "stdout",
     "output_type": "stream",
     "text": [
      "Final price after discount and tax: 51.84\n"
     ]
    }
   ],
   "source": [
    "def applyDiscount(cost, percentDiscounted):\n",
    "    temp = 100 - percentDiscounted\n",
    "    temp = temp / 100\n",
    "    cost = cost * temp\n",
    "    return cost\n",
    "\n",
    "price = applyDiscount(60, 20)\n",
    "\n",
    "def applyTax(cost, percentTaxed):\n",
    "    temp = 100 + percentTaxed\n",
    "    temp = temp / 100\n",
    "    cost = cost * temp\n",
    "    return cost\n",
    "\n",
    "price = applyTax(price, 8)\n",
    "\n",
    "print(\"Final price after discount and tax:\", price)\n"
   ]
  }
 ],
 "metadata": {
  "kernelspec": {
   "display_name": "Python 3",
   "language": "python",
   "name": "python3"
  },
  "language_info": {
   "codemirror_mode": {
    "name": "ipython",
    "version": 3
   },
   "file_extension": ".py",
   "mimetype": "text/x-python",
   "name": "python",
   "nbconvert_exporter": "python",
   "pygments_lexer": "ipython3",
   "version": "3.11.6"
  },
  "orig_nbformat": 4
 },
 "nbformat": 4,
 "nbformat_minor": 2
}
