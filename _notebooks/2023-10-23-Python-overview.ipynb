{
 "cells": [
  {
   "cell_type": "markdown",
   "metadata": {},
   "source": [
    "---\n",
    "toc: true\n",
    "comments: false\n",
    "layout: post\n",
    "title: Python Overview\n",
    "description: Python Learning\n",
    "type: hacks\n",
    "courses: { compsci: {week: 10} }\n",
    "---"
   ]
  },
  {
   "cell_type": "markdown",
   "metadata": {},
   "source": [
    "## Python:\n",
    "\n",
    "### Overview: \n",
    "Python is a high-level, versatile, and widely-used programming language known for its simplicity and readability. It supports various programming paradigms, including procedural, object-oriented, and functional programming. Python is often used for web development, data analysis, scientific computing, artificial intelligence, and more.\n",
    "\n",
    "### Readability: \n",
    "Python's clean and easy-to-read syntax makes it an excellent choice for beginners and experienced programmers alike.\n",
    "\n",
    "### Interpreted: \n",
    "Python is an interpreted language, which means that you can execute code directly, making it easy for experimentation and development.\n",
    "\n",
    "### Large Standard Library: \n",
    "Python comes with a vast standard library that includes modules and packages for a wide range of tasks, reducing the need for external libraries.\n",
    "\n",
    "### Cross-Platform: \n",
    "Python is available on various platforms and operating systems, making it highly portable."
   ]
  },
  {
   "cell_type": "markdown",
   "metadata": {},
   "source": [
    "## Examples: "
   ]
  },
  {
   "cell_type": "markdown",
   "metadata": {},
   "source": [
    "# 1"
   ]
  },
  {
   "cell_type": "code",
   "execution_count": 1,
   "metadata": {},
   "outputs": [
    {
     "ename": "SyntaxError",
     "evalue": "invalid character '←' (U+2190) (93538180.py, line 4)",
     "output_type": "error",
     "traceback": [
      "\u001b[0;36m  Cell \u001b[0;32mIn[1], line 4\u001b[0;36m\u001b[0m\n\u001b[0;31m    fruits ← [\"apple\", \"banana\", \"cherry\"]\u001b[0m\n\u001b[0m           ^\u001b[0m\n\u001b[0;31mSyntaxError\u001b[0m\u001b[0;31m:\u001b[0m invalid character '←' (U+2190)\n"
     ]
    }
   ],
   "source": [
    "# APCSP Pseudo-Code: Iterating Over a List of Fruits\n",
    "\n",
    "# Create a list of fruits\n",
    "fruits ← [\"apple\", \"banana\", \"cherry\"]\n",
    "\n",
    "# Iterate over the list and display each fruit\n",
    "FOR EACH fruit IN fruits:\n",
    "    DISPLAY \"I love \" + fruit\n",
    "END FOR\n"
   ]
  },
  {
   "cell_type": "markdown",
   "metadata": {},
   "source": [
    "# 2"
   ]
  },
  {
   "cell_type": "code",
   "execution_count": 2,
   "metadata": {},
   "outputs": [
    {
     "ename": "SyntaxError",
     "evalue": "invalid character '←' (U+2190) (4057779072.py, line 2)",
     "output_type": "error",
     "traceback": [
      "\u001b[0;36m  Cell \u001b[0;32mIn[2], line 2\u001b[0;36m\u001b[0m\n\u001b[0;31m    aList ← []\u001b[0m\n\u001b[0m          ^\u001b[0m\n\u001b[0;31mSyntaxError\u001b[0m\u001b[0;31m:\u001b[0m invalid character '←' (U+2190)\n"
     ]
    }
   ],
   "source": [
    "# College Board Pseudo Code for lists\n",
    "aList ← []\n",
    "\n",
    "USER_INPUT ← (\"Enter an item you want (or 'q' to quit): \")\n",
    "\n",
    "REPEAT UNTIL USER_INPUT ← q{\n",
    "    APPEND (aList, USER_INPUT)\n",
    "}\n",
    "\n",
    "DISPLAY(aList)\n"
   ]
  },
  {
   "cell_type": "markdown",
   "metadata": {},
   "source": [
    "# 3"
   ]
  },
  {
   "cell_type": "code",
   "execution_count": 3,
   "metadata": {},
   "outputs": [
    {
     "ename": "SyntaxError",
     "evalue": "invalid character '←' (U+2190) (1170362419.py, line 3)",
     "output_type": "error",
     "traceback": [
      "\u001b[0;36m  Cell \u001b[0;32mIn[3], line 3\u001b[0;36m\u001b[0m\n\u001b[0;31m    A ← true\u001b[0m\n\u001b[0m      ^\u001b[0m\n\u001b[0;31mSyntaxError\u001b[0m\u001b[0;31m:\u001b[0m invalid character '←' (U+2190)\n"
     ]
    }
   ],
   "source": [
    "# CB Pseudo Code\n",
    "\n",
    "A ← true\n",
    "B ← true\n",
    "\n",
    "IF (A AND B) {\n",
    "   DISPLAY(\"It's true!\")\n",
    "}"
   ]
  },
  {
   "cell_type": "markdown",
   "metadata": {},
   "source": [
    "# 4"
   ]
  },
  {
   "cell_type": "code",
   "execution_count": 4,
   "metadata": {},
   "outputs": [
    {
     "ename": "SyntaxError",
     "evalue": "invalid character '←' (U+2190) (3323328606.py, line 5)",
     "output_type": "error",
     "traceback": [
      "\u001b[0;36m  Cell \u001b[0;32mIn[4], line 5\u001b[0;36m\u001b[0m\n\u001b[0;31m    temp ← 100 - percentDiscounted\u001b[0m\n\u001b[0m         ^\u001b[0m\n\u001b[0;31mSyntaxError\u001b[0m\u001b[0;31m:\u001b[0m invalid character '←' (U+2190)\n"
     ]
    }
   ],
   "source": [
    "#Example of procedure\n",
    "A 60$ item recieves a 20% discount and taxed at 8%.\n",
    "PROCEDURE applyDiscount(cost, percentDiscounted)\n",
    "{\n",
    "    temp ← 100 - percentDiscounted\n",
    "    temp← temp/ 100\n",
    "    cost ← cost *temp\n",
    "    RETURN(cost)\n",
    "}\n",
    "\n",
    "price ← applyDiscount(60, 20)\n",
    "This is how we get the final price with the discount by calling the procedure and assigning it to the price variable.\n",
    "\n",
    "\n",
    "PROCEDURE applyTax(cost, percentTaxed)\n",
    "{\n",
    "    temp ← 100 + percentTaxed\n",
    "    temp← temp/ 100\n",
    "    cost ← cost *temp\n",
    "    RETURN(cost)\n",
    "}\n",
    "price ← applyTax(price, 8)\n",
    "This applys the 8% tax to the price determined after the discount."
   ]
  }
 ],
 "metadata": {
  "kernelspec": {
   "display_name": "Python 3",
   "language": "python",
   "name": "python3"
  },
  "language_info": {
   "codemirror_mode": {
    "name": "ipython",
    "version": 3
   },
   "file_extension": ".py",
   "mimetype": "text/x-python",
   "name": "python",
   "nbconvert_exporter": "python",
   "pygments_lexer": "ipython3",
   "version": "3.11.6"
  },
  "orig_nbformat": 4
 },
 "nbformat": 4,
 "nbformat_minor": 2
}
